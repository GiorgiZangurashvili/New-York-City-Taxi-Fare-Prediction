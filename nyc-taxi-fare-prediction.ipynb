{
 "cells": [
  {
   "cell_type": "code",
   "execution_count": 1,
   "id": "df061568",
   "metadata": {
    "_cell_guid": "b1076dfc-b9ad-4769-8c92-a6c4dae69d19",
    "_uuid": "8f2839f25d086af736a60e9eeb907d3b93b6e0e5",
    "execution": {
     "iopub.execute_input": "2024-05-26T18:46:59.047448Z",
     "iopub.status.busy": "2024-05-26T18:46:59.047044Z",
     "iopub.status.idle": "2024-05-26T18:47:02.673580Z",
     "shell.execute_reply": "2024-05-26T18:47:02.672681Z"
    },
    "papermill": {
     "duration": 3.639941,
     "end_time": "2024-05-26T18:47:02.675935",
     "exception": false,
     "start_time": "2024-05-26T18:46:59.035994",
     "status": "completed"
    },
    "tags": []
   },
   "outputs": [],
   "source": [
    "import numpy as np # linear algebra\n",
    "import pandas as pd # data processing, CSV file I/O (e.g. pd.read_csv)\n",
    "import os\n",
    "import haversine as hs\n",
    "from sklearn.model_selection import train_test_split\n",
    "from sklearn.linear_model import LinearRegression\n",
    "from sklearn.metrics import mean_squared_error\n",
    "import xgboost as xgb\n",
    "import csv"
   ]
  },
  {
   "cell_type": "markdown",
   "id": "6abaca99",
   "metadata": {
    "papermill": {
     "duration": 0.00882,
     "end_time": "2024-05-26T18:47:02.694182",
     "exception": false,
     "start_time": "2024-05-26T18:47:02.685362",
     "status": "completed"
    },
    "tags": []
   },
   "source": [
    "# სატრენინგო დატა ძალიან დიდია და მთლიანად არ ეტევა პანდას დატაფრეიმში. ამიტომ შეგვიძლია მხოლოდ პირველი 10_000_000 ჩანაწერი წამოვიღოთ."
   ]
  },
  {
   "cell_type": "code",
   "execution_count": 2,
   "id": "ff86e922",
   "metadata": {
    "execution": {
     "iopub.execute_input": "2024-05-26T18:47:02.714065Z",
     "iopub.status.busy": "2024-05-26T18:47:02.713537Z",
     "iopub.status.idle": "2024-05-26T18:47:02.773539Z",
     "shell.execute_reply": "2024-05-26T18:47:02.772377Z"
    },
    "papermill": {
     "duration": 0.072896,
     "end_time": "2024-05-26T18:47:02.776016",
     "exception": false,
     "start_time": "2024-05-26T18:47:02.703120",
     "status": "completed"
    },
    "tags": []
   },
   "outputs": [],
   "source": [
    "N_ROWS = 10_000_000\n",
    "train_df =  pd.read_csv('/kaggle/input/new-york-city-taxi-fare-prediction/train.csv', nrows = N_ROWS)\n",
    "test_df =  pd.read_csv('/kaggle/input/new-york-city-taxi-fare-prediction/test.csv')"
   ]
  },
  {
   "cell_type": "markdown",
   "id": "b2ecc61d",
   "metadata": {
    "papermill": {
     "duration": 0.009783,
     "end_time": "2024-05-26T18:47:02.795045",
     "exception": false,
     "start_time": "2024-05-26T18:47:02.785262",
     "status": "completed"
    },
    "tags": []
   },
   "source": [
    "# სანამ საქმეს შევუდგებოდეთ განვსაზღვროთ სხვადასხვა column-ების min-max მნიშვნელობები."
   ]
  },
  {
   "cell_type": "markdown",
   "id": "3f31c145",
   "metadata": {
    "papermill": {
     "duration": 0.008731,
     "end_time": "2024-05-26T18:47:02.812769",
     "exception": false,
     "start_time": "2024-05-26T18:47:02.804038",
     "status": "completed"
    },
    "tags": []
   },
   "source": [
    "# fair_amount:"
   ]
  },
  {
   "cell_type": "code",
   "execution_count": 3,
   "id": "7f43cc5c",
   "metadata": {
    "execution": {
     "iopub.execute_input": "2024-05-26T18:47:02.832969Z",
     "iopub.status.busy": "2024-05-26T18:47:02.832260Z",
     "iopub.status.idle": "2024-05-26T18:47:02.836656Z",
     "shell.execute_reply": "2024-05-26T18:47:02.835854Z"
    },
    "papermill": {
     "duration": 0.016787,
     "end_time": "2024-05-26T18:47:02.838673",
     "exception": false,
     "start_time": "2024-05-26T18:47:02.821886",
     "status": "completed"
    },
    "tags": []
   },
   "outputs": [],
   "source": [
    "MIN_FAIR_AMOUNT = 2\n",
    "MAX_FAIR_AMOUNT = 250"
   ]
  },
  {
   "cell_type": "markdown",
   "id": "d1853a5b",
   "metadata": {
    "papermill": {
     "duration": 0.008724,
     "end_time": "2024-05-26T18:47:02.856400",
     "exception": false,
     "start_time": "2024-05-26T18:47:02.847676",
     "status": "completed"
    },
    "tags": []
   },
   "source": [
    "# distance:"
   ]
  },
  {
   "cell_type": "code",
   "execution_count": 4,
   "id": "e9e27981",
   "metadata": {
    "execution": {
     "iopub.execute_input": "2024-05-26T18:47:02.875950Z",
     "iopub.status.busy": "2024-05-26T18:47:02.875549Z",
     "iopub.status.idle": "2024-05-26T18:47:02.879489Z",
     "shell.execute_reply": "2024-05-26T18:47:02.878554Z"
    },
    "papermill": {
     "duration": 0.016206,
     "end_time": "2024-05-26T18:47:02.881463",
     "exception": false,
     "start_time": "2024-05-26T18:47:02.865257",
     "status": "completed"
    },
    "tags": []
   },
   "outputs": [],
   "source": [
    "MIN_DISTANCE = 0.5\n",
    "MAX_DISTANCE = 150"
   ]
  },
  {
   "cell_type": "markdown",
   "id": "ad49db44",
   "metadata": {
    "papermill": {
     "duration": 0.0088,
     "end_time": "2024-05-26T18:47:02.899276",
     "exception": false,
     "start_time": "2024-05-26T18:47:02.890476",
     "status": "completed"
    },
    "tags": []
   },
   "source": [
    "# გავეცნოთ dataset-ის ზოგად სტატისტიკას, რათა აღმოვაჩინოთ უჩვეულო მნიშვნელობები."
   ]
  },
  {
   "cell_type": "code",
   "execution_count": 5,
   "id": "d0b91449",
   "metadata": {
    "execution": {
     "iopub.execute_input": "2024-05-26T18:47:02.919284Z",
     "iopub.status.busy": "2024-05-26T18:47:02.918725Z",
     "iopub.status.idle": "2024-05-26T18:47:02.954307Z",
     "shell.execute_reply": "2024-05-26T18:47:02.953599Z"
    },
    "papermill": {
     "duration": 0.047775,
     "end_time": "2024-05-26T18:47:02.956191",
     "exception": false,
     "start_time": "2024-05-26T18:47:02.908416",
     "status": "completed"
    },
    "tags": []
   },
   "outputs": [
    {
     "data": {
      "text/html": [
       "<div>\n",
       "<style scoped>\n",
       "    .dataframe tbody tr th:only-of-type {\n",
       "        vertical-align: middle;\n",
       "    }\n",
       "\n",
       "    .dataframe tbody tr th {\n",
       "        vertical-align: top;\n",
       "    }\n",
       "\n",
       "    .dataframe thead th {\n",
       "        text-align: right;\n",
       "    }\n",
       "</style>\n",
       "<table border=\"1\" class=\"dataframe\">\n",
       "  <thead>\n",
       "    <tr style=\"text-align: right;\">\n",
       "      <th></th>\n",
       "      <th>fare_amount</th>\n",
       "      <th>pickup_longitude</th>\n",
       "      <th>pickup_latitude</th>\n",
       "      <th>dropoff_longitude</th>\n",
       "      <th>dropoff_latitude</th>\n",
       "      <th>passenger_count</th>\n",
       "    </tr>\n",
       "  </thead>\n",
       "  <tbody>\n",
       "    <tr>\n",
       "      <th>count</th>\n",
       "      <td>10.000000</td>\n",
       "      <td>10.000000</td>\n",
       "      <td>10.000000</td>\n",
       "      <td>10.000000</td>\n",
       "      <td>10.000000</td>\n",
       "      <td>10.000000</td>\n",
       "    </tr>\n",
       "    <tr>\n",
       "      <th>mean</th>\n",
       "      <td>9.410000</td>\n",
       "      <td>-73.971771</td>\n",
       "      <td>40.741306</td>\n",
       "      <td>-73.968175</td>\n",
       "      <td>40.755059</td>\n",
       "      <td>1.200000</td>\n",
       "    </tr>\n",
       "    <tr>\n",
       "      <th>std</th>\n",
       "      <td>4.414232</td>\n",
       "      <td>0.048531</td>\n",
       "      <td>0.021147</td>\n",
       "      <td>0.046012</td>\n",
       "      <td>0.021317</td>\n",
       "      <td>0.421637</td>\n",
       "    </tr>\n",
       "    <tr>\n",
       "      <th>min</th>\n",
       "      <td>4.500000</td>\n",
       "      <td>-74.016048</td>\n",
       "      <td>40.711303</td>\n",
       "      <td>-73.993078</td>\n",
       "      <td>40.712278</td>\n",
       "      <td>1.000000</td>\n",
       "    </tr>\n",
       "    <tr>\n",
       "      <th>25%</th>\n",
       "      <td>6.150000</td>\n",
       "      <td>-73.997505</td>\n",
       "      <td>40.727942</td>\n",
       "      <td>-73.991466</td>\n",
       "      <td>40.750684</td>\n",
       "      <td>1.000000</td>\n",
       "    </tr>\n",
       "    <tr>\n",
       "      <th>50%</th>\n",
       "      <td>8.300000</td>\n",
       "      <td>-73.981698</td>\n",
       "      <td>40.733508</td>\n",
       "      <td>-73.984681</td>\n",
       "      <td>40.758115</td>\n",
       "      <td>1.000000</td>\n",
       "    </tr>\n",
       "    <tr>\n",
       "      <th>75%</th>\n",
       "      <td>11.325000</td>\n",
       "      <td>-73.971072</td>\n",
       "      <td>40.758868</td>\n",
       "      <td>-73.973119</td>\n",
       "      <td>40.763190</td>\n",
       "      <td>1.000000</td>\n",
       "    </tr>\n",
       "    <tr>\n",
       "      <th>max</th>\n",
       "      <td>16.900000</td>\n",
       "      <td>-73.844311</td>\n",
       "      <td>40.774138</td>\n",
       "      <td>-73.841610</td>\n",
       "      <td>40.783762</td>\n",
       "      <td>2.000000</td>\n",
       "    </tr>\n",
       "  </tbody>\n",
       "</table>\n",
       "</div>"
      ],
      "text/plain": [
       "       fare_amount  pickup_longitude  pickup_latitude  dropoff_longitude  \\\n",
       "count    10.000000         10.000000        10.000000          10.000000   \n",
       "mean      9.410000        -73.971771        40.741306         -73.968175   \n",
       "std       4.414232          0.048531         0.021147           0.046012   \n",
       "min       4.500000        -74.016048        40.711303         -73.993078   \n",
       "25%       6.150000        -73.997505        40.727942         -73.991466   \n",
       "50%       8.300000        -73.981698        40.733508         -73.984681   \n",
       "75%      11.325000        -73.971072        40.758868         -73.973119   \n",
       "max      16.900000        -73.844311        40.774138         -73.841610   \n",
       "\n",
       "       dropoff_latitude  passenger_count  \n",
       "count         10.000000        10.000000  \n",
       "mean          40.755059         1.200000  \n",
       "std            0.021317         0.421637  \n",
       "min           40.712278         1.000000  \n",
       "25%           40.750684         1.000000  \n",
       "50%           40.758115         1.000000  \n",
       "75%           40.763190         1.000000  \n",
       "max           40.783762         2.000000  "
      ]
     },
     "execution_count": 5,
     "metadata": {},
     "output_type": "execute_result"
    }
   ],
   "source": [
    "train_df.describe()"
   ]
  },
  {
   "cell_type": "markdown",
   "id": "cb7863c0",
   "metadata": {
    "papermill": {
     "duration": 0.008914,
     "end_time": "2024-05-26T18:47:02.974491",
     "exception": false,
     "start_time": "2024-05-26T18:47:02.965577",
     "status": "completed"
    },
    "tags": []
   },
   "source": [
    "# შევამოწმოთ გვაქვს თუ არა ე.წ. missing value-ები და ამის შესაბამისად ჩავატაროთ data cleaning."
   ]
  },
  {
   "cell_type": "code",
   "execution_count": 6,
   "id": "16cae3e9",
   "metadata": {
    "execution": {
     "iopub.execute_input": "2024-05-26T18:47:02.994487Z",
     "iopub.status.busy": "2024-05-26T18:47:02.993937Z",
     "iopub.status.idle": "2024-05-26T18:47:03.000266Z",
     "shell.execute_reply": "2024-05-26T18:47:02.998998Z"
    },
    "papermill": {
     "duration": 0.018796,
     "end_time": "2024-05-26T18:47:03.002310",
     "exception": false,
     "start_time": "2024-05-26T18:47:02.983514",
     "status": "completed"
    },
    "tags": []
   },
   "outputs": [
    {
     "name": "stdout",
     "output_type": "stream",
     "text": [
      "key                  0\n",
      "fare_amount          0\n",
      "pickup_datetime      0\n",
      "pickup_longitude     0\n",
      "pickup_latitude      0\n",
      "dropoff_longitude    0\n",
      "dropoff_latitude     0\n",
      "passenger_count      0\n",
      "dtype: int64\n"
     ]
    }
   ],
   "source": [
    "print(train_df.isnull().sum())"
   ]
  },
  {
   "cell_type": "markdown",
   "id": "c1950fae",
   "metadata": {
    "papermill": {
     "duration": 0.00903,
     "end_time": "2024-05-26T18:47:03.020724",
     "exception": false,
     "start_time": "2024-05-26T18:47:03.011694",
     "status": "completed"
    },
    "tags": []
   },
   "source": [
    "# missing value-ები გვაქვს, შესაბამისად გადავყაროთ ყველა ის სტრიქონი რომელიც missing value-ს შეიცავს."
   ]
  },
  {
   "cell_type": "code",
   "execution_count": 7,
   "id": "43eeb2ee",
   "metadata": {
    "execution": {
     "iopub.execute_input": "2024-05-26T18:47:03.041031Z",
     "iopub.status.busy": "2024-05-26T18:47:03.040651Z",
     "iopub.status.idle": "2024-05-26T18:47:03.047814Z",
     "shell.execute_reply": "2024-05-26T18:47:03.046845Z"
    },
    "papermill": {
     "duration": 0.020233,
     "end_time": "2024-05-26T18:47:03.050324",
     "exception": false,
     "start_time": "2024-05-26T18:47:03.030091",
     "status": "completed"
    },
    "tags": []
   },
   "outputs": [
    {
     "name": "stdout",
     "output_type": "stream",
     "text": [
      "დავრწმუნდეთ რომ missing value-ები აღარ გვაქვს:\n",
      "key                  0\n",
      "fare_amount          0\n",
      "pickup_datetime      0\n",
      "pickup_longitude     0\n",
      "pickup_latitude      0\n",
      "dropoff_longitude    0\n",
      "dropoff_latitude     0\n",
      "passenger_count      0\n",
      "dtype: int64\n",
      "გაფილტრულ მონაცემთა რაოდენობა: 0\n"
     ]
    }
   ],
   "source": [
    "train_df = train_df.dropna()\n",
    "print('დავრწმუნდეთ რომ missing value-ები აღარ გვაქვს:')\n",
    "print(train_df.isnull().sum())\n",
    "print(f'გაფილტრულ მონაცემთა რაოდენობა: {N_ROWS - len(train_df)}')"
   ]
  },
  {
   "cell_type": "markdown",
   "id": "2265fb13",
   "metadata": {
    "papermill": {
     "duration": 0.009113,
     "end_time": "2024-05-26T18:47:03.068814",
     "exception": false,
     "start_time": "2024-05-26T18:47:03.059701",
     "status": "completed"
    },
    "tags": []
   },
   "source": [
    "# როგორც train_df.describe()-მა გვიჩვენა: dataset-ში არის უარყოფითი fare_amount მნიშვნელობები, რაც ალოგიკურია რადგან მგზავრობის ფასი არ შეიძლება იყოს უარყოფითი."
   ]
  },
  {
   "cell_type": "code",
   "execution_count": 8,
   "id": "91f14599",
   "metadata": {
    "execution": {
     "iopub.execute_input": "2024-05-26T18:47:03.088968Z",
     "iopub.status.busy": "2024-05-26T18:47:03.088605Z",
     "iopub.status.idle": "2024-05-26T18:47:03.100342Z",
     "shell.execute_reply": "2024-05-26T18:47:03.099268Z"
    },
    "papermill": {
     "duration": 0.024432,
     "end_time": "2024-05-26T18:47:03.102447",
     "exception": false,
     "start_time": "2024-05-26T18:47:03.078015",
     "status": "completed"
    },
    "tags": []
   },
   "outputs": [
    {
     "name": "stdout",
     "output_type": "stream",
     "text": [
      "უარყოფითი fare_amount-ის მქონე სტრიქონების რაოდენობა: 0\n",
      "Empty DataFrame\n",
      "Columns: [key, fare_amount, pickup_datetime, pickup_longitude, pickup_latitude, dropoff_longitude, dropoff_latitude, passenger_count]\n",
      "Index: []\n"
     ]
    }
   ],
   "source": [
    "negative_fare_amount = train_df[train_df['fare_amount'] < 0]\n",
    "print(f'უარყოფითი fare_amount-ის მქონე სტრიქონების რაოდენობა: {len(negative_fare_amount)}')\n",
    "print(negative_fare_amount.head())"
   ]
  },
  {
   "cell_type": "markdown",
   "id": "d5cca554",
   "metadata": {
    "papermill": {
     "duration": 0.009236,
     "end_time": "2024-05-26T18:47:03.121168",
     "exception": false,
     "start_time": "2024-05-26T18:47:03.111932",
     "status": "completed"
    },
    "tags": []
   },
   "source": [
    "# ასეთი მონაცემები, ე.წ. outlier-ები ამოვშალოთ dataset-დან."
   ]
  },
  {
   "cell_type": "code",
   "execution_count": 9,
   "id": "180b952b",
   "metadata": {
    "execution": {
     "iopub.execute_input": "2024-05-26T18:47:03.141830Z",
     "iopub.status.busy": "2024-05-26T18:47:03.141433Z",
     "iopub.status.idle": "2024-05-26T18:47:03.146499Z",
     "shell.execute_reply": "2024-05-26T18:47:03.145482Z"
    },
    "papermill": {
     "duration": 0.01762,
     "end_time": "2024-05-26T18:47:03.148393",
     "exception": false,
     "start_time": "2024-05-26T18:47:03.130773",
     "status": "completed"
    },
    "tags": []
   },
   "outputs": [],
   "source": [
    "train_df = train_df[train_df['fare_amount'] >= MIN_FAIR_AMOUNT]"
   ]
  },
  {
   "cell_type": "markdown",
   "id": "06992ddc",
   "metadata": {
    "papermill": {
     "duration": 0.009112,
     "end_time": "2024-05-26T18:47:03.166953",
     "exception": false,
     "start_time": "2024-05-26T18:47:03.157841",
     "status": "completed"
    },
    "tags": []
   },
   "source": [
    "# train_df.describe()-მა ასევე გვიჩვენა, რომ dataset-ში fair_amount-ის მაქსიმალური მნიშვნელობა ძალიან დიდ მნიშვნელობას იძლევა რაც ასევე არაა რეალისტური. შესაბამისად ამგვარი მონაცემებიც გავფილტროთ:"
   ]
  },
  {
   "cell_type": "code",
   "execution_count": 10,
   "id": "3ddb0219",
   "metadata": {
    "execution": {
     "iopub.execute_input": "2024-05-26T18:47:03.187675Z",
     "iopub.status.busy": "2024-05-26T18:47:03.187089Z",
     "iopub.status.idle": "2024-05-26T18:47:03.192057Z",
     "shell.execute_reply": "2024-05-26T18:47:03.191326Z"
    },
    "papermill": {
     "duration": 0.017447,
     "end_time": "2024-05-26T18:47:03.193938",
     "exception": false,
     "start_time": "2024-05-26T18:47:03.176491",
     "status": "completed"
    },
    "tags": []
   },
   "outputs": [],
   "source": [
    "train_df = train_df[train_df['fare_amount'] <= MAX_FAIR_AMOUNT]"
   ]
  },
  {
   "cell_type": "code",
   "execution_count": 11,
   "id": "9306bad7",
   "metadata": {
    "execution": {
     "iopub.execute_input": "2024-05-26T18:47:03.216116Z",
     "iopub.status.busy": "2024-05-26T18:47:03.214916Z",
     "iopub.status.idle": "2024-05-26T18:47:03.238716Z",
     "shell.execute_reply": "2024-05-26T18:47:03.237582Z"
    },
    "papermill": {
     "duration": 0.0366,
     "end_time": "2024-05-26T18:47:03.240867",
     "exception": false,
     "start_time": "2024-05-26T18:47:03.204267",
     "status": "completed"
    },
    "tags": []
   },
   "outputs": [
    {
     "data": {
      "text/html": [
       "<div>\n",
       "<style scoped>\n",
       "    .dataframe tbody tr th:only-of-type {\n",
       "        vertical-align: middle;\n",
       "    }\n",
       "\n",
       "    .dataframe tbody tr th {\n",
       "        vertical-align: top;\n",
       "    }\n",
       "\n",
       "    .dataframe thead th {\n",
       "        text-align: right;\n",
       "    }\n",
       "</style>\n",
       "<table border=\"1\" class=\"dataframe\">\n",
       "  <thead>\n",
       "    <tr style=\"text-align: right;\">\n",
       "      <th></th>\n",
       "      <th>fare_amount</th>\n",
       "      <th>pickup_longitude</th>\n",
       "      <th>pickup_latitude</th>\n",
       "      <th>dropoff_longitude</th>\n",
       "      <th>dropoff_latitude</th>\n",
       "      <th>passenger_count</th>\n",
       "    </tr>\n",
       "  </thead>\n",
       "  <tbody>\n",
       "    <tr>\n",
       "      <th>count</th>\n",
       "      <td>10.000000</td>\n",
       "      <td>10.000000</td>\n",
       "      <td>10.000000</td>\n",
       "      <td>10.000000</td>\n",
       "      <td>10.000000</td>\n",
       "      <td>10.000000</td>\n",
       "    </tr>\n",
       "    <tr>\n",
       "      <th>mean</th>\n",
       "      <td>9.410000</td>\n",
       "      <td>-73.971771</td>\n",
       "      <td>40.741306</td>\n",
       "      <td>-73.968175</td>\n",
       "      <td>40.755059</td>\n",
       "      <td>1.200000</td>\n",
       "    </tr>\n",
       "    <tr>\n",
       "      <th>std</th>\n",
       "      <td>4.414232</td>\n",
       "      <td>0.048531</td>\n",
       "      <td>0.021147</td>\n",
       "      <td>0.046012</td>\n",
       "      <td>0.021317</td>\n",
       "      <td>0.421637</td>\n",
       "    </tr>\n",
       "    <tr>\n",
       "      <th>min</th>\n",
       "      <td>4.500000</td>\n",
       "      <td>-74.016048</td>\n",
       "      <td>40.711303</td>\n",
       "      <td>-73.993078</td>\n",
       "      <td>40.712278</td>\n",
       "      <td>1.000000</td>\n",
       "    </tr>\n",
       "    <tr>\n",
       "      <th>25%</th>\n",
       "      <td>6.150000</td>\n",
       "      <td>-73.997505</td>\n",
       "      <td>40.727942</td>\n",
       "      <td>-73.991466</td>\n",
       "      <td>40.750684</td>\n",
       "      <td>1.000000</td>\n",
       "    </tr>\n",
       "    <tr>\n",
       "      <th>50%</th>\n",
       "      <td>8.300000</td>\n",
       "      <td>-73.981698</td>\n",
       "      <td>40.733508</td>\n",
       "      <td>-73.984681</td>\n",
       "      <td>40.758115</td>\n",
       "      <td>1.000000</td>\n",
       "    </tr>\n",
       "    <tr>\n",
       "      <th>75%</th>\n",
       "      <td>11.325000</td>\n",
       "      <td>-73.971072</td>\n",
       "      <td>40.758868</td>\n",
       "      <td>-73.973119</td>\n",
       "      <td>40.763190</td>\n",
       "      <td>1.000000</td>\n",
       "    </tr>\n",
       "    <tr>\n",
       "      <th>max</th>\n",
       "      <td>16.900000</td>\n",
       "      <td>-73.844311</td>\n",
       "      <td>40.774138</td>\n",
       "      <td>-73.841610</td>\n",
       "      <td>40.783762</td>\n",
       "      <td>2.000000</td>\n",
       "    </tr>\n",
       "  </tbody>\n",
       "</table>\n",
       "</div>"
      ],
      "text/plain": [
       "       fare_amount  pickup_longitude  pickup_latitude  dropoff_longitude  \\\n",
       "count    10.000000         10.000000        10.000000          10.000000   \n",
       "mean      9.410000        -73.971771        40.741306         -73.968175   \n",
       "std       4.414232          0.048531         0.021147           0.046012   \n",
       "min       4.500000        -74.016048        40.711303         -73.993078   \n",
       "25%       6.150000        -73.997505        40.727942         -73.991466   \n",
       "50%       8.300000        -73.981698        40.733508         -73.984681   \n",
       "75%      11.325000        -73.971072        40.758868         -73.973119   \n",
       "max      16.900000        -73.844311        40.774138         -73.841610   \n",
       "\n",
       "       dropoff_latitude  passenger_count  \n",
       "count         10.000000        10.000000  \n",
       "mean          40.755059         1.200000  \n",
       "std            0.021317         0.421637  \n",
       "min           40.712278         1.000000  \n",
       "25%           40.750684         1.000000  \n",
       "50%           40.758115         1.000000  \n",
       "75%           40.763190         1.000000  \n",
       "max           40.783762         2.000000  "
      ]
     },
     "execution_count": 11,
     "metadata": {},
     "output_type": "execute_result"
    }
   ],
   "source": [
    "train_df.describe()"
   ]
  },
  {
   "cell_type": "markdown",
   "id": "1f0230ad",
   "metadata": {
    "papermill": {
     "duration": 0.009448,
     "end_time": "2024-05-26T18:47:03.260130",
     "exception": false,
     "start_time": "2024-05-26T18:47:03.250682",
     "status": "completed"
    },
    "tags": []
   },
   "source": [
    "# longitude და latitude მნიშვნელობები ცდება შესაბამის რეინჯებს: [-180, 180] და [-90, 90]. ასეთი სტრიქონებიც ამოვშალოთ:"
   ]
  },
  {
   "cell_type": "code",
   "execution_count": 12,
   "id": "72b88769",
   "metadata": {
    "execution": {
     "iopub.execute_input": "2024-05-26T18:47:03.281674Z",
     "iopub.status.busy": "2024-05-26T18:47:03.280594Z",
     "iopub.status.idle": "2024-05-26T18:47:03.297906Z",
     "shell.execute_reply": "2024-05-26T18:47:03.297105Z"
    },
    "papermill": {
     "duration": 0.030344,
     "end_time": "2024-05-26T18:47:03.300107",
     "exception": false,
     "start_time": "2024-05-26T18:47:03.269763",
     "status": "completed"
    },
    "tags": []
   },
   "outputs": [],
   "source": [
    "MIN_LONGITUDE, MAX_LONGITUDE, MIN_LATITUDE, MAX_LATITUDE = -180, 180, -90, 90\n",
    "\n",
    "# train_df pickup\n",
    "train_df = train_df[train_df['pickup_longitude'] >= MIN_LONGITUDE]\n",
    "train_df = train_df[train_df['pickup_longitude'] <= MAX_LONGITUDE]\n",
    "train_df = train_df[train_df['pickup_latitude'] >= MIN_LATITUDE]\n",
    "train_df = train_df[train_df['pickup_latitude'] <= MAX_LATITUDE]\n",
    "\n",
    "# train_df dropoff\n",
    "train_df = train_df[train_df['dropoff_longitude'] >= MIN_LONGITUDE]\n",
    "train_df = train_df[train_df['dropoff_longitude'] <= MAX_LONGITUDE]\n",
    "train_df = train_df[train_df['dropoff_latitude'] >= MIN_LATITUDE]\n",
    "train_df = train_df[train_df['dropoff_latitude'] <= MAX_LATITUDE]\n",
    "\n",
    "# test_df pickup\n",
    "test_df = test_df[test_df['pickup_longitude'] >= MIN_LONGITUDE]\n",
    "test_df = test_df[test_df['pickup_longitude'] <= MAX_LONGITUDE]\n",
    "test_df = test_df[test_df['pickup_latitude'] >= MIN_LATITUDE]\n",
    "test_df = test_df[test_df['pickup_latitude'] <= MAX_LATITUDE]\n",
    "\n",
    "# test_df dropoff\n",
    "test_df = test_df[test_df['dropoff_longitude'] >= MIN_LONGITUDE]\n",
    "test_df = test_df[test_df['dropoff_longitude'] <= MAX_LONGITUDE]\n",
    "test_df = test_df[test_df['dropoff_latitude'] >= MIN_LATITUDE]\n",
    "test_df = test_df[test_df['dropoff_latitude'] <= MAX_LATITUDE]"
   ]
  },
  {
   "cell_type": "markdown",
   "id": "972df0ab",
   "metadata": {
    "papermill": {
     "duration": 0.009428,
     "end_time": "2024-05-26T18:47:03.319429",
     "exception": false,
     "start_time": "2024-05-26T18:47:03.310001",
     "status": "completed"
    },
    "tags": []
   },
   "source": [
    "# დავთვალოთ დისტანცია მგზავრობის საწყის და საბოლოო წერტილებს შორის, და ჩავამატოთ შესაბამისი მონაცემები ჩვენს dataset-ში:"
   ]
  },
  {
   "cell_type": "code",
   "execution_count": 13,
   "id": "3eb6a5fc",
   "metadata": {
    "execution": {
     "iopub.execute_input": "2024-05-26T18:47:03.340834Z",
     "iopub.status.busy": "2024-05-26T18:47:03.339840Z",
     "iopub.status.idle": "2024-05-26T18:47:04.348899Z",
     "shell.execute_reply": "2024-05-26T18:47:04.347763Z"
    },
    "papermill": {
     "duration": 1.022162,
     "end_time": "2024-05-26T18:47:04.351298",
     "exception": false,
     "start_time": "2024-05-26T18:47:03.329136",
     "status": "completed"
    },
    "tags": []
   },
   "outputs": [],
   "source": [
    "def calculate_distance(df_row):\n",
    "    pickup = df_row[['pickup_latitude', 'pickup_longitude']].values\n",
    "    dropoff = df_row[['dropoff_latitude', 'dropoff_longitude']].values\n",
    "    distances = hs.haversine_vector(pickup, dropoff, hs.Unit.KILOMETERS)\n",
    "    return distances\n",
    "\n",
    "train_df['distance'] = calculate_distance(train_df)\n",
    "test_df['distance'] = calculate_distance(test_df)"
   ]
  },
  {
   "cell_type": "markdown",
   "id": "defb9770",
   "metadata": {
    "papermill": {
     "duration": 0.009438,
     "end_time": "2024-05-26T18:47:04.370641",
     "exception": false,
     "start_time": "2024-05-26T18:47:04.361203",
     "status": "completed"
    },
    "tags": []
   },
   "source": [
    "# ასევე fare_amount-ის მსგავსი პრინციპით გავფილტროთ distance column-ც:"
   ]
  },
  {
   "cell_type": "code",
   "execution_count": 14,
   "id": "65f36987",
   "metadata": {
    "execution": {
     "iopub.execute_input": "2024-05-26T18:47:04.391827Z",
     "iopub.status.busy": "2024-05-26T18:47:04.391112Z",
     "iopub.status.idle": "2024-05-26T18:47:04.400190Z",
     "shell.execute_reply": "2024-05-26T18:47:04.399263Z"
    },
    "papermill": {
     "duration": 0.021937,
     "end_time": "2024-05-26T18:47:04.402250",
     "exception": false,
     "start_time": "2024-05-26T18:47:04.380313",
     "status": "completed"
    },
    "tags": []
   },
   "outputs": [],
   "source": [
    "train_df = train_df[train_df['distance'] >= MIN_DISTANCE]\n",
    "train_df = train_df[train_df['distance'] <= MAX_DISTANCE]\n",
    "test_df = test_df[test_df['distance'] >= MIN_DISTANCE]\n",
    "test_df = test_df[test_df['distance'] <= MAX_DISTANCE]"
   ]
  },
  {
   "cell_type": "markdown",
   "id": "3a00de7f",
   "metadata": {
    "papermill": {
     "duration": 0.009334,
     "end_time": "2024-05-26T18:47:04.421614",
     "exception": false,
     "start_time": "2024-05-26T18:47:04.412280",
     "status": "completed"
    },
    "tags": []
   },
   "source": [
    "# ასევე გავფილტროთ passenger_count column-ც:"
   ]
  },
  {
   "cell_type": "code",
   "execution_count": 15,
   "id": "ead97df8",
   "metadata": {
    "execution": {
     "iopub.execute_input": "2024-05-26T18:47:04.442719Z",
     "iopub.status.busy": "2024-05-26T18:47:04.442348Z",
     "iopub.status.idle": "2024-05-26T18:47:04.448817Z",
     "shell.execute_reply": "2024-05-26T18:47:04.447813Z"
    },
    "papermill": {
     "duration": 0.019131,
     "end_time": "2024-05-26T18:47:04.450605",
     "exception": false,
     "start_time": "2024-05-26T18:47:04.431474",
     "status": "completed"
    },
    "tags": []
   },
   "outputs": [],
   "source": [
    "MAX_PASSENGER_COUNT = 5\n",
    "train_df = train_df[train_df['passenger_count'] >= 0]\n",
    "train_df = train_df[train_df['passenger_count'] <= MAX_PASSENGER_COUNT]"
   ]
  },
  {
   "cell_type": "code",
   "execution_count": 16,
   "id": "ca51475f",
   "metadata": {
    "execution": {
     "iopub.execute_input": "2024-05-26T18:47:04.471258Z",
     "iopub.status.busy": "2024-05-26T18:47:04.470924Z",
     "iopub.status.idle": "2024-05-26T18:47:04.498406Z",
     "shell.execute_reply": "2024-05-26T18:47:04.497398Z"
    },
    "papermill": {
     "duration": 0.040288,
     "end_time": "2024-05-26T18:47:04.500577",
     "exception": false,
     "start_time": "2024-05-26T18:47:04.460289",
     "status": "completed"
    },
    "tags": []
   },
   "outputs": [
    {
     "name": "stdout",
     "output_type": "stream",
     "text": [
      "გაფილტვრის შემდეგ მონაცემების რაოდენობა: 10\n"
     ]
    },
    {
     "data": {
      "text/html": [
       "<div>\n",
       "<style scoped>\n",
       "    .dataframe tbody tr th:only-of-type {\n",
       "        vertical-align: middle;\n",
       "    }\n",
       "\n",
       "    .dataframe tbody tr th {\n",
       "        vertical-align: top;\n",
       "    }\n",
       "\n",
       "    .dataframe thead th {\n",
       "        text-align: right;\n",
       "    }\n",
       "</style>\n",
       "<table border=\"1\" class=\"dataframe\">\n",
       "  <thead>\n",
       "    <tr style=\"text-align: right;\">\n",
       "      <th></th>\n",
       "      <th>fare_amount</th>\n",
       "      <th>pickup_longitude</th>\n",
       "      <th>pickup_latitude</th>\n",
       "      <th>dropoff_longitude</th>\n",
       "      <th>dropoff_latitude</th>\n",
       "      <th>passenger_count</th>\n",
       "      <th>distance</th>\n",
       "    </tr>\n",
       "  </thead>\n",
       "  <tbody>\n",
       "    <tr>\n",
       "      <th>count</th>\n",
       "      <td>10.000000</td>\n",
       "      <td>10.000000</td>\n",
       "      <td>10.000000</td>\n",
       "      <td>10.000000</td>\n",
       "      <td>10.000000</td>\n",
       "      <td>10.000000</td>\n",
       "      <td>10.000000</td>\n",
       "    </tr>\n",
       "    <tr>\n",
       "      <th>mean</th>\n",
       "      <td>9.410000</td>\n",
       "      <td>-73.971771</td>\n",
       "      <td>40.741306</td>\n",
       "      <td>-73.968175</td>\n",
       "      <td>40.755059</td>\n",
       "      <td>1.200000</td>\n",
       "      <td>2.927024</td>\n",
       "    </tr>\n",
       "    <tr>\n",
       "      <th>std</th>\n",
       "      <td>4.414232</td>\n",
       "      <td>0.048531</td>\n",
       "      <td>0.021147</td>\n",
       "      <td>0.046012</td>\n",
       "      <td>0.021317</td>\n",
       "      <td>0.421637</td>\n",
       "      <td>2.218073</td>\n",
       "    </tr>\n",
       "    <tr>\n",
       "      <th>min</th>\n",
       "      <td>4.500000</td>\n",
       "      <td>-74.016048</td>\n",
       "      <td>40.711303</td>\n",
       "      <td>-73.993078</td>\n",
       "      <td>40.712278</td>\n",
       "      <td>1.000000</td>\n",
       "      <td>1.030765</td>\n",
       "    </tr>\n",
       "    <tr>\n",
       "      <th>25%</th>\n",
       "      <td>6.150000</td>\n",
       "      <td>-73.997505</td>\n",
       "      <td>40.727942</td>\n",
       "      <td>-73.991466</td>\n",
       "      <td>40.750684</td>\n",
       "      <td>1.000000</td>\n",
       "      <td>1.431098</td>\n",
       "    </tr>\n",
       "    <tr>\n",
       "      <th>50%</th>\n",
       "      <td>8.300000</td>\n",
       "      <td>-73.981698</td>\n",
       "      <td>40.733508</td>\n",
       "      <td>-73.984681</td>\n",
       "      <td>40.758115</td>\n",
       "      <td>1.000000</td>\n",
       "      <td>2.399217</td>\n",
       "    </tr>\n",
       "    <tr>\n",
       "      <th>75%</th>\n",
       "      <td>11.325000</td>\n",
       "      <td>-73.971072</td>\n",
       "      <td>40.758868</td>\n",
       "      <td>-73.973119</td>\n",
       "      <td>40.763190</td>\n",
       "      <td>1.000000</td>\n",
       "      <td>3.552841</td>\n",
       "    </tr>\n",
       "    <tr>\n",
       "      <th>max</th>\n",
       "      <td>16.900000</td>\n",
       "      <td>-73.844311</td>\n",
       "      <td>40.774138</td>\n",
       "      <td>-73.841610</td>\n",
       "      <td>40.783762</td>\n",
       "      <td>2.000000</td>\n",
       "      <td>8.450145</td>\n",
       "    </tr>\n",
       "  </tbody>\n",
       "</table>\n",
       "</div>"
      ],
      "text/plain": [
       "       fare_amount  pickup_longitude  pickup_latitude  dropoff_longitude  \\\n",
       "count    10.000000         10.000000        10.000000          10.000000   \n",
       "mean      9.410000        -73.971771        40.741306         -73.968175   \n",
       "std       4.414232          0.048531         0.021147           0.046012   \n",
       "min       4.500000        -74.016048        40.711303         -73.993078   \n",
       "25%       6.150000        -73.997505        40.727942         -73.991466   \n",
       "50%       8.300000        -73.981698        40.733508         -73.984681   \n",
       "75%      11.325000        -73.971072        40.758868         -73.973119   \n",
       "max      16.900000        -73.844311        40.774138         -73.841610   \n",
       "\n",
       "       dropoff_latitude  passenger_count   distance  \n",
       "count         10.000000        10.000000  10.000000  \n",
       "mean          40.755059         1.200000   2.927024  \n",
       "std            0.021317         0.421637   2.218073  \n",
       "min           40.712278         1.000000   1.030765  \n",
       "25%           40.750684         1.000000   1.431098  \n",
       "50%           40.758115         1.000000   2.399217  \n",
       "75%           40.763190         1.000000   3.552841  \n",
       "max           40.783762         2.000000   8.450145  "
      ]
     },
     "execution_count": 16,
     "metadata": {},
     "output_type": "execute_result"
    }
   ],
   "source": [
    "print(f'გაფილტვრის შემდეგ მონაცემების რაოდენობა: {len(train_df)}')\n",
    "train_df.describe()"
   ]
  },
  {
   "cell_type": "markdown",
   "id": "55aabf4f",
   "metadata": {
    "papermill": {
     "duration": 0.009679,
     "end_time": "2024-05-26T18:47:04.520244",
     "exception": false,
     "start_time": "2024-05-26T18:47:04.510565",
     "status": "completed"
    },
    "tags": []
   },
   "source": [
    "# გადავიყვანოთ pickup_datetime column-ები შესაბამის ფორმატში:"
   ]
  },
  {
   "cell_type": "code",
   "execution_count": 17,
   "id": "1b287231",
   "metadata": {
    "execution": {
     "iopub.execute_input": "2024-05-26T18:47:04.542114Z",
     "iopub.status.busy": "2024-05-26T18:47:04.541282Z",
     "iopub.status.idle": "2024-05-26T18:47:04.637151Z",
     "shell.execute_reply": "2024-05-26T18:47:04.636266Z"
    },
    "papermill": {
     "duration": 0.109336,
     "end_time": "2024-05-26T18:47:04.639477",
     "exception": false,
     "start_time": "2024-05-26T18:47:04.530141",
     "status": "completed"
    },
    "tags": []
   },
   "outputs": [],
   "source": [
    "train_df['pickup_datetime'] = pd.to_datetime(train_df['pickup_datetime'], errors='coerce')\n",
    "test_df['pickup_datetime'] = pd.to_datetime(test_df['pickup_datetime'], errors='coerce')"
   ]
  },
  {
   "cell_type": "markdown",
   "id": "2fcb214e",
   "metadata": {
    "papermill": {
     "duration": 0.009796,
     "end_time": "2024-05-26T18:47:04.659549",
     "exception": false,
     "start_time": "2024-05-26T18:47:04.649753",
     "status": "completed"
    },
    "tags": []
   },
   "source": [
    "# უფრო დეტალურად ამოვიღოთ ისეთივე feature-ები, როგორებიცაა: წელი, თვე, დღე, საათი, კვირის დღე:"
   ]
  },
  {
   "cell_type": "code",
   "execution_count": 18,
   "id": "f6c988d1",
   "metadata": {
    "execution": {
     "iopub.execute_input": "2024-05-26T18:47:04.681520Z",
     "iopub.status.busy": "2024-05-26T18:47:04.680760Z",
     "iopub.status.idle": "2024-05-26T18:47:04.695482Z",
     "shell.execute_reply": "2024-05-26T18:47:04.694783Z"
    },
    "papermill": {
     "duration": 0.028112,
     "end_time": "2024-05-26T18:47:04.697620",
     "exception": false,
     "start_time": "2024-05-26T18:47:04.669508",
     "status": "completed"
    },
    "tags": []
   },
   "outputs": [],
   "source": [
    "train_df['pickup_year'] = train_df['pickup_datetime'].dt.year\n",
    "train_df['pickup_month'] = train_df['pickup_datetime'].dt.month\n",
    "train_df['pickup_day'] = train_df['pickup_datetime'].dt.day\n",
    "train_df['pickup_hour'] = train_df['pickup_datetime'].dt.hour\n",
    "train_df['pickup_day_of_week'] = train_df['pickup_datetime'].dt.dayofweek\n",
    "\n",
    "test_df['pickup_year'] = test_df['pickup_datetime'].dt.year\n",
    "test_df['pickup_month'] = test_df['pickup_datetime'].dt.month\n",
    "test_df['pickup_day'] = test_df['pickup_datetime'].dt.day\n",
    "test_df['pickup_hour'] = test_df['pickup_datetime'].dt.hour\n",
    "test_df['pickup_day_of_week'] = test_df['pickup_datetime'].dt.dayofweek"
   ]
  },
  {
   "cell_type": "code",
   "execution_count": 19,
   "id": "33339e8d",
   "metadata": {
    "execution": {
     "iopub.execute_input": "2024-05-26T18:47:04.720492Z",
     "iopub.status.busy": "2024-05-26T18:47:04.719868Z",
     "iopub.status.idle": "2024-05-26T18:47:04.775760Z",
     "shell.execute_reply": "2024-05-26T18:47:04.774694Z"
    },
    "papermill": {
     "duration": 0.070125,
     "end_time": "2024-05-26T18:47:04.778097",
     "exception": false,
     "start_time": "2024-05-26T18:47:04.707972",
     "status": "completed"
    },
    "tags": []
   },
   "outputs": [
    {
     "name": "stdout",
     "output_type": "stream",
     "text": [
      "მიღებული train dataset:        fare_amount  pickup_longitude  pickup_latitude  dropoff_longitude  \\\n",
      "count    10.000000         10.000000        10.000000          10.000000   \n",
      "mean      9.410000        -73.971771        40.741306         -73.968175   \n",
      "std       4.414232          0.048531         0.021147           0.046012   \n",
      "min       4.500000        -74.016048        40.711303         -73.993078   \n",
      "25%       6.150000        -73.997505        40.727942         -73.991466   \n",
      "50%       8.300000        -73.981698        40.733508         -73.984681   \n",
      "75%      11.325000        -73.971072        40.758868         -73.973119   \n",
      "max      16.900000        -73.844311        40.774138         -73.841610   \n",
      "\n",
      "       dropoff_latitude  passenger_count   distance  pickup_year  \\\n",
      "count         10.000000        10.000000  10.000000    10.000000   \n",
      "mean          40.755059         1.200000   2.927024  2010.800000   \n",
      "std            0.021317         0.421637   2.218073     1.229273   \n",
      "min           40.712278         1.000000   1.030765  2009.000000   \n",
      "25%           40.750684         1.000000   1.431098  2010.000000   \n",
      "50%           40.758115         1.000000   2.399217  2011.000000   \n",
      "75%           40.763190         1.000000   3.552841  2012.000000   \n",
      "max           40.783762         2.000000   8.450145  2012.000000   \n",
      "\n",
      "       pickup_month  pickup_day  pickup_hour  pickup_day_of_week  \n",
      "count     10.000000   10.000000    10.000000           10.000000  \n",
      "mean       5.600000   10.300000    10.400000            1.800000  \n",
      "std        4.221637    7.454305     7.214184            1.549193  \n",
      "min        1.000000    2.000000     0.000000            0.000000  \n",
      "25%        1.500000    4.250000     4.750000            1.000000  \n",
      "50%        5.000000    7.500000    11.000000            1.500000  \n",
      "75%        8.750000   17.250000    16.750000            2.750000  \n",
      "max       12.000000   21.000000    20.000000            5.000000  \n",
      "მიღებული test dataset:        pickup_longitude  pickup_latitude  dropoff_longitude  dropoff_latitude  \\\n",
      "count       9553.000000      9553.000000        9553.000000       9553.000000   \n",
      "mean         -73.975214        40.750713         -73.974110         40.751439   \n",
      "std            0.039356         0.031091           0.035148          0.033204   \n",
      "min          -74.252193        40.573143         -74.263242         40.568973   \n",
      "25%          -73.992583        40.736032         -73.991266         40.735191   \n",
      "50%          -73.982408        40.752917         -73.980092         40.753957   \n",
      "75%          -73.968275        40.766915         -73.964339         40.768620   \n",
      "max          -72.986532        41.709555         -72.990963         41.696683   \n",
      "\n",
      "       passenger_count     distance  pickup_year  pickup_month   pickup_day  \\\n",
      "count      9553.000000  9553.000000  9553.000000   9553.000000  9553.000000   \n",
      "mean          1.672459     3.556295  2011.826023      6.863289    16.183084   \n",
      "std           1.279351     3.996660     1.804252      3.357899     8.840651   \n",
      "min           1.000000     0.501299  2009.000000      1.000000     1.000000   \n",
      "25%           1.000000     1.386460  2010.000000      4.000000     9.000000   \n",
      "50%           1.000000     2.317138  2012.000000      7.000000    16.000000   \n",
      "75%           2.000000     4.166989  2014.000000     10.000000    25.000000   \n",
      "max           6.000000    99.996178  2015.000000     12.000000    31.000000   \n",
      "\n",
      "       pickup_hour  pickup_day_of_week  \n",
      "count  9553.000000         9553.000000  \n",
      "mean     13.482990            2.844447  \n",
      "std       6.880497            1.991472  \n",
      "min       0.000000            0.000000  \n",
      "25%       8.000000            1.000000  \n",
      "50%      15.000000            3.000000  \n",
      "75%      19.000000            5.000000  \n",
      "max      23.000000            6.000000  \n"
     ]
    }
   ],
   "source": [
    "print(f'მიღებული train dataset: {train_df.describe()}')\n",
    "print(f'მიღებული test dataset: {test_df.describe()}')"
   ]
  },
  {
   "cell_type": "markdown",
   "id": "d378caa4",
   "metadata": {
    "papermill": {
     "duration": 0.010273,
     "end_time": "2024-05-26T18:47:04.798758",
     "exception": false,
     "start_time": "2024-05-26T18:47:04.788485",
     "status": "completed"
    },
    "tags": []
   },
   "source": [
    "# დავიმახსოვროთ test_df submission.csv ფაილის გენერაციისთვის:"
   ]
  },
  {
   "cell_type": "code",
   "execution_count": 20,
   "id": "919930bd",
   "metadata": {
    "execution": {
     "iopub.execute_input": "2024-05-26T18:47:04.821480Z",
     "iopub.status.busy": "2024-05-26T18:47:04.820862Z",
     "iopub.status.idle": "2024-05-26T18:47:04.825959Z",
     "shell.execute_reply": "2024-05-26T18:47:04.825242Z"
    },
    "papermill": {
     "duration": 0.018877,
     "end_time": "2024-05-26T18:47:04.827855",
     "exception": false,
     "start_time": "2024-05-26T18:47:04.808978",
     "status": "completed"
    },
    "tags": []
   },
   "outputs": [],
   "source": [
    "X_test = test_df.copy()"
   ]
  },
  {
   "cell_type": "markdown",
   "id": "224d4f55",
   "metadata": {
    "papermill": {
     "duration": 0.009902,
     "end_time": "2024-05-26T18:47:04.848864",
     "exception": false,
     "start_time": "2024-05-26T18:47:04.838962",
     "status": "completed"
    },
    "tags": []
   },
   "source": [
    "# დავტოვოთ მხოლოდ ისეთი სტრიქონები, რომლებიც ნიუ იორკის საზღვრებშია:"
   ]
  },
  {
   "cell_type": "code",
   "execution_count": 21,
   "id": "e3393043",
   "metadata": {
    "execution": {
     "iopub.execute_input": "2024-05-26T18:47:04.922836Z",
     "iopub.status.busy": "2024-05-26T18:47:04.922437Z",
     "iopub.status.idle": "2024-05-26T18:47:05.114764Z",
     "shell.execute_reply": "2024-05-26T18:47:05.113965Z"
    },
    "papermill": {
     "duration": 0.206238,
     "end_time": "2024-05-26T18:47:05.117014",
     "exception": false,
     "start_time": "2024-05-26T18:47:04.910776",
     "status": "completed"
    },
    "tags": []
   },
   "outputs": [],
   "source": [
    "bounds = (-74.25559, -73.70001, 40.49612, 40.91553)  # (min_lon, max_lon, min_lat, max_lat)\n",
    "\n",
    "def is_in_nyc(longitude, latitude):\n",
    "    min_longitude, max_longitude, min_latitude, max_latitude = bounds\n",
    "    return (longitude >= min_longitude) and (longitude <= max_longitude) and (latitude >= min_latitude) and (latitude <= max_latitude)\n",
    "\n",
    "train_df = train_df[train_df.apply(lambda row: is_in_nyc(row['pickup_longitude'], row['pickup_latitude']) and is_in_nyc(row['dropoff_longitude'], row['dropoff_latitude']), axis=1)]\n",
    "test_df = test_df[test_df.apply(lambda row: is_in_nyc(row['pickup_longitude'], row['pickup_latitude']) and is_in_nyc(row['dropoff_longitude'], row['dropoff_latitude']), axis=1)]"
   ]
  },
  {
   "cell_type": "code",
   "execution_count": 22,
   "id": "85ebaade",
   "metadata": {
    "execution": {
     "iopub.execute_input": "2024-05-26T18:47:05.140125Z",
     "iopub.status.busy": "2024-05-26T18:47:05.139728Z",
     "iopub.status.idle": "2024-05-26T18:47:05.195452Z",
     "shell.execute_reply": "2024-05-26T18:47:05.194415Z"
    },
    "papermill": {
     "duration": 0.070058,
     "end_time": "2024-05-26T18:47:05.198004",
     "exception": false,
     "start_time": "2024-05-26T18:47:05.127946",
     "status": "completed"
    },
    "tags": []
   },
   "outputs": [
    {
     "name": "stdout",
     "output_type": "stream",
     "text": [
      "დარჩენილ მონაცემთა რაოდენობა 10\n",
      "       fare_amount  pickup_longitude  pickup_latitude  dropoff_longitude  \\\n",
      "count    10.000000         10.000000        10.000000          10.000000   \n",
      "mean      9.410000        -73.971771        40.741306         -73.968175   \n",
      "std       4.414232          0.048531         0.021147           0.046012   \n",
      "min       4.500000        -74.016048        40.711303         -73.993078   \n",
      "25%       6.150000        -73.997505        40.727942         -73.991466   \n",
      "50%       8.300000        -73.981698        40.733508         -73.984681   \n",
      "75%      11.325000        -73.971072        40.758868         -73.973119   \n",
      "max      16.900000        -73.844311        40.774138         -73.841610   \n",
      "\n",
      "       dropoff_latitude  passenger_count   distance  pickup_year  \\\n",
      "count         10.000000        10.000000  10.000000    10.000000   \n",
      "mean          40.755059         1.200000   2.927024  2010.800000   \n",
      "std            0.021317         0.421637   2.218073     1.229273   \n",
      "min           40.712278         1.000000   1.030765  2009.000000   \n",
      "25%           40.750684         1.000000   1.431098  2010.000000   \n",
      "50%           40.758115         1.000000   2.399217  2011.000000   \n",
      "75%           40.763190         1.000000   3.552841  2012.000000   \n",
      "max           40.783762         2.000000   8.450145  2012.000000   \n",
      "\n",
      "       pickup_month  pickup_day  pickup_hour  pickup_day_of_week  \n",
      "count     10.000000   10.000000    10.000000           10.000000  \n",
      "mean       5.600000   10.300000    10.400000            1.800000  \n",
      "std        4.221637    7.454305     7.214184            1.549193  \n",
      "min        1.000000    2.000000     0.000000            0.000000  \n",
      "25%        1.500000    4.250000     4.750000            1.000000  \n",
      "50%        5.000000    7.500000    11.000000            1.500000  \n",
      "75%        8.750000   17.250000    16.750000            2.750000  \n",
      "max       12.000000   21.000000    20.000000            5.000000  \n",
      "       pickup_longitude  pickup_latitude  dropoff_longitude  dropoff_latitude  \\\n",
      "count       9543.000000      9543.000000        9543.000000       9543.000000   \n",
      "mean         -73.975605        40.750339         -73.974255         40.751286   \n",
      "std            0.034816         0.026948           0.033269          0.031457   \n",
      "min          -74.221278        40.573143         -74.217388         40.568973   \n",
      "25%          -73.992589        40.736024         -73.991267         40.735191   \n",
      "50%          -73.982419        40.752902         -73.980092         40.753925   \n",
      "75%          -73.968325        40.766871         -73.964371         40.768605   \n",
      "max          -73.776585        40.855770         -73.701627         40.913471   \n",
      "\n",
      "       passenger_count     distance  pickup_year  pickup_month   pickup_day  \\\n",
      "count      9543.000000  9543.000000  9543.000000   9543.000000  9543.000000   \n",
      "mean          1.672744     3.521918  2011.827413      6.863355    16.181704   \n",
      "std           1.279810     3.606848     1.804439      3.358291     8.838978   \n",
      "min           1.000000     0.501299  2009.000000      1.000000     1.000000   \n",
      "25%           1.000000     1.386371  2010.000000      4.000000     9.000000   \n",
      "50%           1.000000     2.315124  2012.000000      7.000000    16.000000   \n",
      "75%           2.000000     4.160349  2014.000000     10.000000    25.000000   \n",
      "max           6.000000    28.837217  2015.000000     12.000000    31.000000   \n",
      "\n",
      "       pickup_hour  pickup_day_of_week  \n",
      "count  9543.000000         9543.000000  \n",
      "mean     13.480771            2.843865  \n",
      "std       6.882204            1.991318  \n",
      "min       0.000000            0.000000  \n",
      "25%       8.000000            1.000000  \n",
      "50%      15.000000            3.000000  \n",
      "75%      19.000000            5.000000  \n",
      "max      23.000000            6.000000  \n"
     ]
    }
   ],
   "source": [
    "print(f'დარჩენილ მონაცემთა რაოდენობა {len(train_df)}')\n",
    "print(train_df.describe())\n",
    "print(test_df.describe())"
   ]
  },
  {
   "cell_type": "markdown",
   "id": "f38f87d0",
   "metadata": {
    "papermill": {
     "duration": 0.01041,
     "end_time": "2024-05-26T18:47:05.219265",
     "exception": false,
     "start_time": "2024-05-26T18:47:05.208855",
     "status": "completed"
    },
    "tags": []
   },
   "source": [
    "# განვსაზღვროთ features მასივი:"
   ]
  },
  {
   "cell_type": "code",
   "execution_count": 23,
   "id": "caec41a8",
   "metadata": {
    "execution": {
     "iopub.execute_input": "2024-05-26T18:47:05.242055Z",
     "iopub.status.busy": "2024-05-26T18:47:05.241429Z",
     "iopub.status.idle": "2024-05-26T18:47:05.246746Z",
     "shell.execute_reply": "2024-05-26T18:47:05.246015Z"
    },
    "papermill": {
     "duration": 0.018847,
     "end_time": "2024-05-26T18:47:05.248546",
     "exception": false,
     "start_time": "2024-05-26T18:47:05.229699",
     "status": "completed"
    },
    "tags": []
   },
   "outputs": [],
   "source": [
    "features = [\n",
    "    'pickup_longitude', \n",
    "    'pickup_latitude', \n",
    "    'dropoff_longitude', \n",
    "    'dropoff_latitude', \n",
    "    'passenger_count', \n",
    "    'distance', \n",
    "    'pickup_year', \n",
    "    'pickup_month', \n",
    "    'pickup_day', \n",
    "    'pickup_hour', \n",
    "    'pickup_day_of_week'\n",
    "    ]\n",
    "X_test = test_df.copy()"
   ]
  },
  {
   "cell_type": "markdown",
   "id": "b5c39409",
   "metadata": {
    "papermill": {
     "duration": 0.014315,
     "end_time": "2024-05-26T18:47:05.275131",
     "exception": false,
     "start_time": "2024-05-26T18:47:05.260816",
     "status": "completed"
    },
    "tags": []
   },
   "source": [
    "# წრფივი რეგრესიის მოდელი:"
   ]
  },
  {
   "cell_type": "code",
   "execution_count": 24,
   "id": "baf1b038",
   "metadata": {
    "execution": {
     "iopub.execute_input": "2024-05-26T18:47:05.302739Z",
     "iopub.status.busy": "2024-05-26T18:47:05.301885Z",
     "iopub.status.idle": "2024-05-26T18:47:05.339167Z",
     "shell.execute_reply": "2024-05-26T18:47:05.338114Z"
    },
    "papermill": {
     "duration": 0.05378,
     "end_time": "2024-05-26T18:47:05.341114",
     "exception": false,
     "start_time": "2024-05-26T18:47:05.287334",
     "status": "completed"
    },
    "tags": []
   },
   "outputs": [
    {
     "name": "stdout",
     "output_type": "stream",
     "text": [
      "rmse_train: 3.616711983044361e-13\n",
      "rmse_valid: 9.304118487274973\n"
     ]
    }
   ],
   "source": [
    "def linear_regression():\n",
    "    X = train_df[features]\n",
    "    y = train_df['fare_amount']\n",
    "    \n",
    "\n",
    "    X_train, X_valid, y_train, y_valid = train_test_split(X, y, test_size=0.2, random_state=42)\n",
    "    \n",
    "    model = LinearRegression()\n",
    "    model.fit(X_train, y_train)\n",
    "    \n",
    "    y_train_pred = model.predict(X_train)\n",
    "    rmse_train = np.sqrt(mean_squared_error(y_train, y_train_pred))\n",
    "    \n",
    "    y_valid_pred = model.predict(X_valid)\n",
    "    rmse_valid = np.sqrt(mean_squared_error(y_valid, y_valid_pred))\n",
    "    \n",
    "    print(f'rmse_train: {rmse_train}')\n",
    "    print(f'rmse_valid: {rmse_valid}')\n",
    "    \n",
    "    return model\n",
    "    \n",
    "model = linear_regression()\n",
    "# generate_submission(model, X_test)"
   ]
  },
  {
   "cell_type": "markdown",
   "id": "eff39a3f",
   "metadata": {
    "papermill": {
     "duration": 0.010343,
     "end_time": "2024-05-26T18:47:05.362121",
     "exception": false,
     "start_time": "2024-05-26T18:47:05.351778",
     "status": "completed"
    },
    "tags": []
   },
   "source": [
    "# შევქმნათ submission.csv:"
   ]
  },
  {
   "cell_type": "code",
   "execution_count": 25,
   "id": "2abc8769",
   "metadata": {
    "execution": {
     "iopub.execute_input": "2024-05-26T18:47:05.384955Z",
     "iopub.status.busy": "2024-05-26T18:47:05.384299Z",
     "iopub.status.idle": "2024-05-26T18:47:05.462949Z",
     "shell.execute_reply": "2024-05-26T18:47:05.461785Z"
    },
    "papermill": {
     "duration": 0.093586,
     "end_time": "2024-05-26T18:47:05.466195",
     "exception": false,
     "start_time": "2024-05-26T18:47:05.372609",
     "status": "completed"
    },
    "tags": []
   },
   "outputs": [],
   "source": [
    "submission_df = pd.DataFrame({'key': X_test['key'], 'fare_amount': model.predict(X_test[features])})\n",
    "submission_df.to_csv('submission.csv', index=False)"
   ]
  },
  {
   "cell_type": "markdown",
   "id": "92bff6bb",
   "metadata": {
    "papermill": {
     "duration": 0.016049,
     "end_time": "2024-05-26T18:47:05.522583",
     "exception": false,
     "start_time": "2024-05-26T18:47:05.506534",
     "status": "completed"
    },
    "tags": []
   },
   "source": [
    "# XGBoost მოდელი:"
   ]
  },
  {
   "cell_type": "code",
   "execution_count": 26,
   "id": "d6c87f4a",
   "metadata": {
    "execution": {
     "iopub.execute_input": "2024-05-26T18:47:05.555014Z",
     "iopub.status.busy": "2024-05-26T18:47:05.554471Z",
     "iopub.status.idle": "2024-05-26T18:47:05.658876Z",
     "shell.execute_reply": "2024-05-26T18:47:05.657949Z"
    },
    "papermill": {
     "duration": 0.124786,
     "end_time": "2024-05-26T18:47:05.661370",
     "exception": false,
     "start_time": "2024-05-26T18:47:05.536584",
     "status": "completed"
    },
    "tags": []
   },
   "outputs": [
    {
     "name": "stdout",
     "output_type": "stream",
     "text": [
      "rmse_train: 0.0005927812346869125\n",
      "rmse_valid: 3.517876937445658\n"
     ]
    }
   ],
   "source": [
    "def xgboost_regression():\n",
    "    X = train_df[features]\n",
    "    y = train_df['fare_amount']\n",
    "    \n",
    "    X_train, X_valid, y_train, y_valid = train_test_split(X, y, test_size=0.2, random_state=42)\n",
    "    \n",
    "    model = xgb.XGBRegressor(objective ='reg:squarederror', random_state=42)\n",
    "    model.fit(X_train, y_train)\n",
    "    \n",
    "    y_train_pred = model.predict(X_train)\n",
    "    rmse_train = np.sqrt(mean_squared_error(y_train, y_train_pred))\n",
    "    \n",
    "    y_valid_pred = model.predict(X_valid)\n",
    "    rmse_valid = np.sqrt(mean_squared_error(y_valid, y_valid_pred))\n",
    "\n",
    "    print(f'rmse_train: {rmse_train}')\n",
    "    print(f'rmse_valid: {rmse_valid}')\n",
    "    \n",
    "    return model\n",
    "    \n",
    "model = xgboost_regression()"
   ]
  }
 ],
 "metadata": {
  "kaggle": {
   "accelerator": "none",
   "dataSources": [
    {
     "databundleVersionId": 61318,
     "sourceId": 10170,
     "sourceType": "competition"
    }
   ],
   "dockerImageVersionId": 30698,
   "isGpuEnabled": false,
   "isInternetEnabled": false,
   "language": "python",
   "sourceType": "notebook"
  },
  "kernelspec": {
   "display_name": "Python 3",
   "language": "python",
   "name": "python3"
  },
  "language_info": {
   "codemirror_mode": {
    "name": "ipython",
    "version": 3
   },
   "file_extension": ".py",
   "mimetype": "text/x-python",
   "name": "python",
   "nbconvert_exporter": "python",
   "pygments_lexer": "ipython3",
   "version": "3.10.13"
  },
  "papermill": {
   "default_parameters": {},
   "duration": 9.936717,
   "end_time": "2024-05-26T18:47:06.391607",
   "environment_variables": {},
   "exception": null,
   "input_path": "__notebook__.ipynb",
   "output_path": "__notebook__.ipynb",
   "parameters": {},
   "start_time": "2024-05-26T18:46:56.454890",
   "version": "2.5.0"
  }
 },
 "nbformat": 4,
 "nbformat_minor": 5
}
